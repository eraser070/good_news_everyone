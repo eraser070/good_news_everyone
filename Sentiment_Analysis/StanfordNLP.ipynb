{
 "cells": [
  {
   "cell_type": "code",
   "execution_count": null,
   "metadata": {},
   "outputs": [],
   "source": [
    "# Download java\n",
    "# Download https://stanfordnlp.github.io/CoreNLP/download.html#getting-a-copy\n",
    "# Go to extracted folder in terminal and enter the following command:\n",
    "# java -mx6g -cp \"*\" edu.stanford.nlp.pipeline.StanfordCoreNLPServer -timeout 5000\n",
    "\n",
    "#import sys\n",
    "#!{sys.executable} -m pip install pip install torch===1.4.0 torchvision===0.5.0 -f https://download.pytorch.org/whl/torch_stable.html\n",
    "#!{sys.executable} -m pip install stanford-corenlp\n",
    "#!{sys.executable} -m pip install stanfordnlp\n",
    "#!{sys.executable} -m pip install pycorenlp"
   ]
  },
  {
   "cell_type": "code",
   "execution_count": 29,
   "metadata": {},
   "outputs": [
    {
     "name": "stdout",
     "output_type": "stream",
     "text": [
      "When a house goes up for sale , it 's not normal practice for the seller to try and scare the pants off prospective buyers … But that 's what happened as part of a brilliant Paranormal Activity prank , which saw a host of potential buyers scared witless as they viewed an open house . : Negative\n",
      "Unbeknown to them , the house was in fact the very same one that was used to film the first Paranormal Activity movie , and they were all in for a nasty shock . : Negative\n",
      "The poor souls knew something was up when they were subjected to a swinging chandelier , a sparking microwave and a falling painting , but nothing could have prepared them for what took place upstairs . : Negative\n",
      "While viewing the bathroom , the mirror suddenly cracked and all hell broke loose in the bedroom . : Negative\n",
      "The clip has been released ahead of Paranormal Activity : The Ghost Dimension , and if that does n't get you in the mood for the film , nothing will . : Negative\n",
      "Producer Jason Blum previously announced that The Ghost Dimension will be the last in the Paranormal Activity series . : Positive\n",
      "Paranormal Activity : The Ghost Dimension is released in UK cinemas on October 21 , and in the US on October 23 . : Neutral\n"
     ]
    }
   ],
   "source": [
    "from pycorenlp import StanfordCoreNLP\n",
    "nlp = StanfordCoreNLP('http://localhost:9000')\n",
    "text = '''\n",
    "When a house goes up for sale, it's not normal practice for the seller to try and scare the pants off prospective buyers…\n",
    "But that's what happened as part of a brilliant Paranormal Activity prank, which saw a host of potential buyers scared witless as they viewed an open house.\n",
    "Unbeknown to them, the house was in fact the very same one that was used to film the first Paranormal Activity movie, and they were all in for a nasty shock.\n",
    "The poor souls knew something was up when they were subjected to a swinging chandelier, a sparking microwave and a falling painting, but nothing could have prepared them for what took place upstairs.\n",
    "While viewing the bathroom, the mirror suddenly cracked and all hell broke loose in the bedroom.\n",
    "The clip has been released ahead of Paranormal Activity: The Ghost Dimension, and if that doesn't get you in the mood for the film, nothing will.\n",
    "Producer Jason Blum previously announced that The Ghost Dimension will be the last in the Paranormal Activity series.\n",
    "Paranormal Activity: The Ghost Dimension is released in UK cinemas on October 21, and in the US on October 23.\n",
    "'''\n",
    "results = nlp.annotate(text,properties={\n",
    "        'annotators':'sentiment, ner, pos',\n",
    "        'outputFormat': 'json',\n",
    "        'timeout': 100000,\n",
    "        })\n",
    "\n",
    "for s in results[\"sentences\"]:\n",
    "        print(\"{} : {}\".format(\" \".join(t[\"word\"] for t in s[\"tokens\"]),s[\"sentiment\"]))"
   ]
  },
  {
   "cell_type": "code",
   "execution_count": null,
   "metadata": {},
   "outputs": [],
   "source": []
  }
 ],
 "metadata": {
  "kernelspec": {
   "display_name": "Python [conda env:nf] *",
   "language": "python",
   "name": "conda-env-nf-py"
  },
  "language_info": {
   "codemirror_mode": {
    "name": "ipython",
    "version": 3
   },
   "file_extension": ".py",
   "mimetype": "text/x-python",
   "name": "python",
   "nbconvert_exporter": "python",
   "pygments_lexer": "ipython3",
   "version": "3.6.10"
  }
 },
 "nbformat": 4,
 "nbformat_minor": 4
}
